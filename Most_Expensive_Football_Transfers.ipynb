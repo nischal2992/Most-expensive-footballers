{
  "nbformat": 4,
  "nbformat_minor": 0,
  "metadata": {
    "colab": {
      "name": "Most Expensive Football Transfers",
      "provenance": [],
      "collapsed_sections": []
    },
    "kernelspec": {
      "name": "python3",
      "display_name": "Python 3"
    },
    "language_info": {
      "name": "python"
    }
  },
  "cells": [
    {
      "cell_type": "markdown",
      "metadata": {
        "id": "ecphk4evhpSa"
      },
      "source": [
        "# Most Expensive Football Transfers\n",
        "The following is a list of most expensive association football transfers, which details the highest transfer fees ever paid for players, as well as transfers which set new world transfer records.\n",
        "\n",
        "This data contains top 50 transfers based on paid fees.\n",
        "\n",
        "Columns:\n",
        "\n",
        "<ul><li>Rank: Rank of transfer</li>\n",
        "\n",
        "<li>Origin : Origin Country of Player</li>\n",
        "\n",
        "<li>Player : Player Name</li>\n",
        "\n",
        "<li>From(Country) : From which country the player transferred?</li>\n",
        "\n",
        "<li>From(Club) : From which Club the player transferred?</li>\n",
        "\n",
        "<li>To(Country) : To which country the player transferred?</li>\n",
        "\n",
        "<li>To(Club) : To which Club the player transferred?</li>\n",
        "\n",
        "<li>Position : Position of The player</li>\n",
        "\n",
        "<li>Fee(€ mln) : How much fee were paid for the transfer as € mln.</li>\n",
        "\n",
        "<li>Fee(£ mln) : How much fee were paid for the transfer as £ mln.</li>\n",
        "\n",
        "<li>Year : In which year the transfer occured?</li>\n",
        "\n",
        "<li>Born : When was the player born?</li></ul>"
      ]
    },
    {
      "cell_type": "code",
      "metadata": {
        "id": "Gw1KFozFiW0J"
      },
      "source": [
        "# loading libraries\n",
        "import pandas as pd\n",
        "import numpy as np\n",
        "import seaborn as sns\n",
        "import matplotlib.pyplot as plt"
      ],
      "execution_count": 18,
      "outputs": []
    },
    {
      "cell_type": "code",
      "metadata": {
        "colab": {
          "base_uri": "https://localhost:8080/",
          "height": 204
        },
        "id": "urO4JLICiqWo",
        "outputId": "9eba65df-e266-429c-d9f5-3d8ad64ab3f3"
      },
      "source": [
        "# loading the dataset file\n",
        "df = pd.read_csv('/content/football_players.csv')\n",
        "df.head()"
      ],
      "execution_count": 19,
      "outputs": [
        {
          "output_type": "execute_result",
          "data": {
            "text/html": [
              "<div>\n",
              "<style scoped>\n",
              "    .dataframe tbody tr th:only-of-type {\n",
              "        vertical-align: middle;\n",
              "    }\n",
              "\n",
              "    .dataframe tbody tr th {\n",
              "        vertical-align: top;\n",
              "    }\n",
              "\n",
              "    .dataframe thead th {\n",
              "        text-align: right;\n",
              "    }\n",
              "</style>\n",
              "<table border=\"1\" class=\"dataframe\">\n",
              "  <thead>\n",
              "    <tr style=\"text-align: right;\">\n",
              "      <th></th>\n",
              "      <th>Rank</th>\n",
              "      <th>Origin</th>\n",
              "      <th>Player</th>\n",
              "      <th>From(Country)</th>\n",
              "      <th>From(Club)</th>\n",
              "      <th>To(Country)</th>\n",
              "      <th>To(Club)</th>\n",
              "      <th>Position</th>\n",
              "      <th>Fee(€ mln)</th>\n",
              "      <th>Fee(£ mln)</th>\n",
              "      <th>Year</th>\n",
              "      <th>Born</th>\n",
              "    </tr>\n",
              "  </thead>\n",
              "  <tbody>\n",
              "    <tr>\n",
              "      <th>0</th>\n",
              "      <td>1</td>\n",
              "      <td>Brazil</td>\n",
              "      <td>Neymar</td>\n",
              "      <td>Spain</td>\n",
              "      <td>Barcelona</td>\n",
              "      <td>France</td>\n",
              "      <td>Paris Saint-Germain</td>\n",
              "      <td>Forward</td>\n",
              "      <td>222.0</td>\n",
              "      <td>£198</td>\n",
              "      <td>2017</td>\n",
              "      <td>1992</td>\n",
              "    </tr>\n",
              "    <tr>\n",
              "      <th>1</th>\n",
              "      <td>2</td>\n",
              "      <td>France</td>\n",
              "      <td>Kylian Mbappé</td>\n",
              "      <td>France</td>\n",
              "      <td>Monaco</td>\n",
              "      <td>France</td>\n",
              "      <td>Paris Saint-Germain</td>\n",
              "      <td>Forward</td>\n",
              "      <td>180.0</td>\n",
              "      <td>£163</td>\n",
              "      <td>2018</td>\n",
              "      <td>1998</td>\n",
              "    </tr>\n",
              "    <tr>\n",
              "      <th>2</th>\n",
              "      <td>3</td>\n",
              "      <td>Brazil</td>\n",
              "      <td>Philippe Coutinho</td>\n",
              "      <td>England</td>\n",
              "      <td>Liverpool</td>\n",
              "      <td>Spain</td>\n",
              "      <td>Barcelona</td>\n",
              "      <td>Midfielder</td>\n",
              "      <td>145.0</td>\n",
              "      <td>£105</td>\n",
              "      <td>2018</td>\n",
              "      <td>1992</td>\n",
              "    </tr>\n",
              "    <tr>\n",
              "      <th>3</th>\n",
              "      <td>4</td>\n",
              "      <td>Portugal</td>\n",
              "      <td>João Félix</td>\n",
              "      <td>Portugal</td>\n",
              "      <td>Benfica</td>\n",
              "      <td>Spain</td>\n",
              "      <td>Atlético Madrid</td>\n",
              "      <td>Forward</td>\n",
              "      <td>126.0</td>\n",
              "      <td>£104.1</td>\n",
              "      <td>2019</td>\n",
              "      <td>1999</td>\n",
              "    </tr>\n",
              "    <tr>\n",
              "      <th>4</th>\n",
              "      <td>5</td>\n",
              "      <td>France</td>\n",
              "      <td>Antoine Griezmann</td>\n",
              "      <td>Spain</td>\n",
              "      <td>Atlético Madrid</td>\n",
              "      <td>Spain</td>\n",
              "      <td>Barcelona</td>\n",
              "      <td>Forward</td>\n",
              "      <td>120.0</td>\n",
              "      <td>£107</td>\n",
              "      <td>2019</td>\n",
              "      <td>1991</td>\n",
              "    </tr>\n",
              "  </tbody>\n",
              "</table>\n",
              "</div>"
            ],
            "text/plain": [
              "   Rank    Origin             Player  ... Fee(£ mln)  Year  Born\n",
              "0     1    Brazil             Neymar  ...       £198  2017  1992\n",
              "1     2    France      Kylian Mbappé  ...       £163  2018  1998\n",
              "2     3    Brazil  Philippe Coutinho  ...       £105  2018  1992\n",
              "3     4  Portugal         João Félix  ...     £104.1  2019  1999\n",
              "4     5    France  Antoine Griezmann  ...       £107  2019  1991\n",
              "\n",
              "[5 rows x 12 columns]"
            ]
          },
          "metadata": {
            "tags": []
          },
          "execution_count": 19
        }
      ]
    },
    {
      "cell_type": "code",
      "metadata": {
        "colab": {
          "base_uri": "https://localhost:8080/"
        },
        "id": "7m32Fv_HjK62",
        "outputId": "637e6664-3b52-4393-9890-cc9c4fb90d20"
      },
      "source": [
        "df.info()"
      ],
      "execution_count": 20,
      "outputs": [
        {
          "output_type": "stream",
          "text": [
            "<class 'pandas.core.frame.DataFrame'>\n",
            "RangeIndex: 54 entries, 0 to 53\n",
            "Data columns (total 12 columns):\n",
            " #   Column         Non-Null Count  Dtype  \n",
            "---  ------         --------------  -----  \n",
            " 0   Rank           54 non-null     int64  \n",
            " 1   Origin         54 non-null     object \n",
            " 2   Player         54 non-null     object \n",
            " 3   From(Country)  54 non-null     object \n",
            " 4   From(Club)     54 non-null     object \n",
            " 5   To(Country)    54 non-null     object \n",
            " 6   To(Club)       54 non-null     object \n",
            " 7   Position       54 non-null     object \n",
            " 8   Fee(€ mln)     54 non-null     float64\n",
            " 9   Fee(£ mln)     54 non-null     object \n",
            " 10  Year           54 non-null     int64  \n",
            " 11  Born           54 non-null     int64  \n",
            "dtypes: float64(1), int64(3), object(8)\n",
            "memory usage: 5.2+ KB\n"
          ],
          "name": "stdout"
        }
      ]
    },
    {
      "cell_type": "markdown",
      "metadata": {
        "id": "3gwUHRV_lpwl"
      },
      "source": [
        "Observation: column 'Fee(£ mln)' is object type as it contains '£' symbol.\n",
        "Next step:\n",
        "<ul><li>Remove '£' from every row of column 'Fee (£ mln)'.</li>\n",
        "<li>Convert columns 'Fee (£ mln)' t float type. </li></ul>"
      ]
    },
    {
      "cell_type": "code",
      "metadata": {
        "colab": {
          "base_uri": "https://localhost:8080/",
          "height": 204
        },
        "id": "8jvzPFAjmao9",
        "outputId": "a41c113c-43ff-4354-a874-830fde6a60bf"
      },
      "source": [
        "# Delete £\n",
        "df['Fee(£ mln)'] = df['Fee(£ mln)'].str.replace('£','')\n",
        "\n",
        "# Convert Fee (£ mln) to float\n",
        "df['Fee(£ mln)'] = df['Fee(£ mln)'].astype('float')\n",
        "df.head()"
      ],
      "execution_count": 21,
      "outputs": [
        {
          "output_type": "execute_result",
          "data": {
            "text/html": [
              "<div>\n",
              "<style scoped>\n",
              "    .dataframe tbody tr th:only-of-type {\n",
              "        vertical-align: middle;\n",
              "    }\n",
              "\n",
              "    .dataframe tbody tr th {\n",
              "        vertical-align: top;\n",
              "    }\n",
              "\n",
              "    .dataframe thead th {\n",
              "        text-align: right;\n",
              "    }\n",
              "</style>\n",
              "<table border=\"1\" class=\"dataframe\">\n",
              "  <thead>\n",
              "    <tr style=\"text-align: right;\">\n",
              "      <th></th>\n",
              "      <th>Rank</th>\n",
              "      <th>Origin</th>\n",
              "      <th>Player</th>\n",
              "      <th>From(Country)</th>\n",
              "      <th>From(Club)</th>\n",
              "      <th>To(Country)</th>\n",
              "      <th>To(Club)</th>\n",
              "      <th>Position</th>\n",
              "      <th>Fee(€ mln)</th>\n",
              "      <th>Fee(£ mln)</th>\n",
              "      <th>Year</th>\n",
              "      <th>Born</th>\n",
              "    </tr>\n",
              "  </thead>\n",
              "  <tbody>\n",
              "    <tr>\n",
              "      <th>0</th>\n",
              "      <td>1</td>\n",
              "      <td>Brazil</td>\n",
              "      <td>Neymar</td>\n",
              "      <td>Spain</td>\n",
              "      <td>Barcelona</td>\n",
              "      <td>France</td>\n",
              "      <td>Paris Saint-Germain</td>\n",
              "      <td>Forward</td>\n",
              "      <td>222.0</td>\n",
              "      <td>198.0</td>\n",
              "      <td>2017</td>\n",
              "      <td>1992</td>\n",
              "    </tr>\n",
              "    <tr>\n",
              "      <th>1</th>\n",
              "      <td>2</td>\n",
              "      <td>France</td>\n",
              "      <td>Kylian Mbappé</td>\n",
              "      <td>France</td>\n",
              "      <td>Monaco</td>\n",
              "      <td>France</td>\n",
              "      <td>Paris Saint-Germain</td>\n",
              "      <td>Forward</td>\n",
              "      <td>180.0</td>\n",
              "      <td>163.0</td>\n",
              "      <td>2018</td>\n",
              "      <td>1998</td>\n",
              "    </tr>\n",
              "    <tr>\n",
              "      <th>2</th>\n",
              "      <td>3</td>\n",
              "      <td>Brazil</td>\n",
              "      <td>Philippe Coutinho</td>\n",
              "      <td>England</td>\n",
              "      <td>Liverpool</td>\n",
              "      <td>Spain</td>\n",
              "      <td>Barcelona</td>\n",
              "      <td>Midfielder</td>\n",
              "      <td>145.0</td>\n",
              "      <td>105.0</td>\n",
              "      <td>2018</td>\n",
              "      <td>1992</td>\n",
              "    </tr>\n",
              "    <tr>\n",
              "      <th>3</th>\n",
              "      <td>4</td>\n",
              "      <td>Portugal</td>\n",
              "      <td>João Félix</td>\n",
              "      <td>Portugal</td>\n",
              "      <td>Benfica</td>\n",
              "      <td>Spain</td>\n",
              "      <td>Atlético Madrid</td>\n",
              "      <td>Forward</td>\n",
              "      <td>126.0</td>\n",
              "      <td>104.1</td>\n",
              "      <td>2019</td>\n",
              "      <td>1999</td>\n",
              "    </tr>\n",
              "    <tr>\n",
              "      <th>4</th>\n",
              "      <td>5</td>\n",
              "      <td>France</td>\n",
              "      <td>Antoine Griezmann</td>\n",
              "      <td>Spain</td>\n",
              "      <td>Atlético Madrid</td>\n",
              "      <td>Spain</td>\n",
              "      <td>Barcelona</td>\n",
              "      <td>Forward</td>\n",
              "      <td>120.0</td>\n",
              "      <td>107.0</td>\n",
              "      <td>2019</td>\n",
              "      <td>1991</td>\n",
              "    </tr>\n",
              "  </tbody>\n",
              "</table>\n",
              "</div>"
            ],
            "text/plain": [
              "   Rank    Origin             Player  ... Fee(£ mln)  Year  Born\n",
              "0     1    Brazil             Neymar  ...      198.0  2017  1992\n",
              "1     2    France      Kylian Mbappé  ...      163.0  2018  1998\n",
              "2     3    Brazil  Philippe Coutinho  ...      105.0  2018  1992\n",
              "3     4  Portugal         João Félix  ...      104.1  2019  1999\n",
              "4     5    France  Antoine Griezmann  ...      107.0  2019  1991\n",
              "\n",
              "[5 rows x 12 columns]"
            ]
          },
          "metadata": {
            "tags": []
          },
          "execution_count": 21
        }
      ]
    },
    {
      "cell_type": "code",
      "metadata": {
        "colab": {
          "base_uri": "https://localhost:8080/"
        },
        "id": "MNt_sYqhniYL",
        "outputId": "bf428c03-4eac-4680-b967-568ca05b454c"
      },
      "source": [
        "df.info()"
      ],
      "execution_count": 22,
      "outputs": [
        {
          "output_type": "stream",
          "text": [
            "<class 'pandas.core.frame.DataFrame'>\n",
            "RangeIndex: 54 entries, 0 to 53\n",
            "Data columns (total 12 columns):\n",
            " #   Column         Non-Null Count  Dtype  \n",
            "---  ------         --------------  -----  \n",
            " 0   Rank           54 non-null     int64  \n",
            " 1   Origin         54 non-null     object \n",
            " 2   Player         54 non-null     object \n",
            " 3   From(Country)  54 non-null     object \n",
            " 4   From(Club)     54 non-null     object \n",
            " 5   To(Country)    54 non-null     object \n",
            " 6   To(Club)       54 non-null     object \n",
            " 7   Position       54 non-null     object \n",
            " 8   Fee(€ mln)     54 non-null     float64\n",
            " 9   Fee(£ mln)     54 non-null     float64\n",
            " 10  Year           54 non-null     int64  \n",
            " 11  Born           54 non-null     int64  \n",
            "dtypes: float64(2), int64(3), object(7)\n",
            "memory usage: 5.2+ KB\n"
          ],
          "name": "stdout"
        }
      ]
    },
    {
      "cell_type": "code",
      "metadata": {
        "colab": {
          "base_uri": "https://localhost:8080/"
        },
        "id": "NwmkjY6nnmyr",
        "outputId": "8abbbff5-8d5e-429e-8987-45e3da6e1725"
      },
      "source": [
        "# checking null values\n",
        "df.isnull().sum()"
      ],
      "execution_count": 23,
      "outputs": [
        {
          "output_type": "execute_result",
          "data": {
            "text/plain": [
              "Rank             0\n",
              "Origin           0\n",
              "Player           0\n",
              "From(Country)    0\n",
              "From(Club)       0\n",
              "To(Country)      0\n",
              "To(Club)         0\n",
              "Position         0\n",
              "Fee(€ mln)       0\n",
              "Fee(£ mln)       0\n",
              "Year             0\n",
              "Born             0\n",
              "dtype: int64"
            ]
          },
          "metadata": {
            "tags": []
          },
          "execution_count": 23
        }
      ]
    },
    {
      "cell_type": "code",
      "metadata": {
        "colab": {
          "base_uri": "https://localhost:8080/"
        },
        "id": "fkg0GTyNnxS8",
        "outputId": "ce574c25-604e-4bf6-8079-b56575c8cc5f"
      },
      "source": [
        "df['Origin'].value_counts()"
      ],
      "execution_count": 24,
      "outputs": [
        {
          "output_type": "execute_result",
          "data": {
            "text/plain": [
              "France                    9\n",
              "Portugal                  6\n",
              "Brazil                    6\n",
              "Belgium                   4\n",
              "England                   4\n",
              "Spain                     3\n",
              "Argentina                 3\n",
              "Netherlands               3\n",
              "Colombia                  2\n",
              "Uruguay                   2\n",
              "Guinea                    1\n",
              "Ivory Coast               1\n",
              "Gabon                     1\n",
              "Wakes                     1\n",
              "Nigeria                   1\n",
              "United States             1\n",
              "Bosnia and Herzegovina    1\n",
              "Algeria                   1\n",
              "Germany                   1\n",
              "Sweden                    1\n",
              "Morocco                   1\n",
              "Serbia                    1\n",
              "Name: Origin, dtype: int64"
            ]
          },
          "metadata": {
            "tags": []
          },
          "execution_count": 24
        }
      ]
    },
    {
      "cell_type": "code",
      "metadata": {
        "id": "M6hhoVapn6hL"
      },
      "source": [
        "# Combining all the nations having value as 1 into 'Others' in 'Origin' column and putting it in another data frame for visualisation\n",
        "df1 = df['Origin'].value_counts()\n",
        "condition = df1 > 2\n",
        "other = (~condition).sum()"
      ],
      "execution_count": 25,
      "outputs": []
    },
    {
      "cell_type": "code",
      "metadata": {
        "colab": {
          "base_uri": "https://localhost:8080/"
        },
        "id": "gT6tyM6yohZS",
        "outputId": "d68f595e-96ad-4f8a-fcc0-e4f1a68fc374"
      },
      "source": [
        "df1 = df1[condition]\n",
        "df1 = df1.append(pd.Series({'Oher' : other}))\n",
        "df1"
      ],
      "execution_count": 26,
      "outputs": [
        {
          "output_type": "execute_result",
          "data": {
            "text/plain": [
              "France          9\n",
              "Portugal        6\n",
              "Brazil          6\n",
              "Belgium         4\n",
              "England         4\n",
              "Spain           3\n",
              "Argentina       3\n",
              "Netherlands     3\n",
              "Oher           14\n",
              "dtype: int64"
            ]
          },
          "metadata": {
            "tags": []
          },
          "execution_count": 26
        }
      ]
    },
    {
      "cell_type": "code",
      "metadata": {
        "colab": {
          "base_uri": "https://localhost:8080/",
          "height": 591
        },
        "id": "2O72TJvlpJKr",
        "outputId": "fe8c018e-350f-49fe-bb12-824adcf24734"
      },
      "source": [
        "# plotting\n",
        "plot1 = df1.plot.pie(y = df1, title = 'Origin of the players', figsize = (15,10), colormap = 'Pastel2', ylabel = 'Origin', startangle = 180, autopct = '%1.1f%%')"
      ],
      "execution_count": 27,
      "outputs": [
        {
          "output_type": "display_data",
          "data": {
            "image/png": "[encoded data removed]",
            "text/plain": [
              "<Figure size 1080x720 with 1 Axes>"
            ]
          },
          "metadata": {
            "tags": []
          }
        }
      ]
    },
    {
      "cell_type": "code",
      "metadata": {
        "colab": {
          "base_uri": "https://localhost:8080/",
          "height": 204
        },
        "id": "Pa0ExybswIf4",
        "outputId": "c96f57da-3353-4e8a-b1af-79444a13fb40"
      },
      "source": [
        "df2 = df[['Fee(€ mln)', 'To(Club)', 'Year']]\n",
        "df2.head()"
      ],
      "execution_count": 28,
      "outputs": [
        {
          "output_type": "execute_result",
          "data": {
            "text/html": [
              "<div>\n",
              "<style scoped>\n",
              "    .dataframe tbody tr th:only-of-type {\n",
              "        vertical-align: middle;\n",
              "    }\n",
              "\n",
              "    .dataframe tbody tr th {\n",
              "        vertical-align: top;\n",
              "    }\n",
              "\n",
              "    .dataframe thead th {\n",
              "        text-align: right;\n",
              "    }\n",
              "</style>\n",
              "<table border=\"1\" class=\"dataframe\">\n",
              "  <thead>\n",
              "    <tr style=\"text-align: right;\">\n",
              "      <th></th>\n",
              "      <th>Fee(€ mln)</th>\n",
              "      <th>To(Club)</th>\n",
              "      <th>Year</th>\n",
              "    </tr>\n",
              "  </thead>\n",
              "  <tbody>\n",
              "    <tr>\n",
              "      <th>0</th>\n",
              "      <td>222.0</td>\n",
              "      <td>Paris Saint-Germain</td>\n",
              "      <td>2017</td>\n",
              "    </tr>\n",
              "    <tr>\n",
              "      <th>1</th>\n",
              "      <td>180.0</td>\n",
              "      <td>Paris Saint-Germain</td>\n",
              "      <td>2018</td>\n",
              "    </tr>\n",
              "    <tr>\n",
              "      <th>2</th>\n",
              "      <td>145.0</td>\n",
              "      <td>Barcelona</td>\n",
              "      <td>2018</td>\n",
              "    </tr>\n",
              "    <tr>\n",
              "      <th>3</th>\n",
              "      <td>126.0</td>\n",
              "      <td>Atlético Madrid</td>\n",
              "      <td>2019</td>\n",
              "    </tr>\n",
              "    <tr>\n",
              "      <th>4</th>\n",
              "      <td>120.0</td>\n",
              "      <td>Barcelona</td>\n",
              "      <td>2019</td>\n",
              "    </tr>\n",
              "  </tbody>\n",
              "</table>\n",
              "</div>"
            ],
            "text/plain": [
              "   Fee(€ mln)             To(Club)  Year\n",
              "0       222.0  Paris Saint-Germain  2017\n",
              "1       180.0  Paris Saint-Germain  2018\n",
              "2       145.0            Barcelona  2018\n",
              "3       126.0      Atlético Madrid  2019\n",
              "4       120.0            Barcelona  2019"
            ]
          },
          "metadata": {
            "tags": []
          },
          "execution_count": 28
        }
      ]
    },
    {
      "cell_type": "markdown",
      "metadata": {
        "id": "eYvWXlwIwfM7"
      },
      "source": [
        "As most of the signings are from club 'Paris Saint-Germain'\n",
        "We will compare Paris Saint-Germain with other clubs on the basis of fee paid."
      ]
    },
    {
      "cell_type": "code",
      "metadata": {
        "id": "rsowQJ-MxEka"
      },
      "source": [
        "x = df2['Year']\n",
        "y = df2['Fee(€ mln)']\n",
        "condition = df2['To(Club)'] != 'Paris Saint-Germain'"
      ],
      "execution_count": 29,
      "outputs": []
    },
    {
      "cell_type": "code",
      "metadata": {
        "colab": {
          "base_uri": "https://localhost:8080/",
          "height": 497
        },
        "id": "5NXwDMISwdCr",
        "outputId": "b92cac0e-6c3a-4c2d-b7e1-671f53b94add"
      },
      "source": [
        "plt.figure(figsize = (8,8))\n",
        "plt.scatter(x[condition], y[condition], c = 'mediumpurple', s = 40, label = 'Paid by other clubs')\n",
        "plt.scatter(x[~condition], y[~condition], c = 'navy', s = 40, label = 'Paid by PSG')\n",
        "plt.legend()\n",
        "plt.xlabel('Year')\n",
        "plt.ylabel('Fee (€ mln)')\n",
        "plt.show()"
      ],
      "execution_count": 30,
      "outputs": [
        {
          "output_type": "display_data",
          "data": {
            "image/png": "[encoded data removed]",
            "text/plain": [
              "<Figure size 576x576 with 1 Axes>"
            ]
          },
          "metadata": {
            "tags": [],
            "needs_background": "light"
          }
        }
      ]
    },
    {
      "cell_type": "markdown",
      "metadata": {
        "id": "KTUkon5RytAR"
      },
      "source": [
        "Now we will observe the players positions with respect to the fees"
      ]
    },
    {
      "cell_type": "code",
      "metadata": {
        "colab": {
          "base_uri": "https://localhost:8080/"
        },
        "id": "Kjs9inv_yyX5",
        "outputId": "cd6187fb-8b07-4073-aa0f-b6927ca8eb5e"
      },
      "source": [
        "df3 = df.groupby('Position')['Fee(€ mln)'].sum()\n",
        "df3 = df3.sort_values(ascending = False)\n",
        "df3.head"
      ],
      "execution_count": 31,
      "outputs": [
        {
          "output_type": "execute_result",
          "data": {
            "text/plain": [
              "<bound method NDFrame.head of Position\n",
              "Midfielder    1551.6\n",
              "Forward       1491.3\n",
              "Striker        720.5\n",
              "Defender       584.7\n",
              "Goalkeeper     142.5\n",
              "Name: Fee(€ mln), dtype: float64>"
            ]
          },
          "metadata": {
            "tags": []
          },
          "execution_count": 31
        }
      ]
    },
    {
      "cell_type": "code",
      "metadata": {
        "colab": {
          "base_uri": "https://localhost:8080/",
          "height": 497
        },
        "id": "TPoavBZrz6iy",
        "outputId": "bf2c1441-d84a-4742-9dc8-374ee013f236"
      },
      "source": [
        "# now we will plot it\n",
        "plt.figure(figsize = (10,8))\n",
        "plt.barh(df3.index, df3, color = 'seagreen')\n",
        "plt.ylabel('Positions')\n",
        "plt.xlabel('Fee(€ mln)')\n",
        "plt.show()"
      ],
      "execution_count": 32,
      "outputs": [
        {
          "output_type": "display_data",
          "data": {
            "image/png": "[encoded data removed]",
            "text/plain": [
              "<Figure size 720x576 with 1 Axes>"
            ]
          },
          "metadata": {
            "tags": [],
            "needs_background": "light"
          }
        }
      ]
    },
    {
      "cell_type": "markdown",
      "metadata": {
        "id": "AOl--u-39_Hp"
      },
      "source": [
        "Clubs with highest revenues"
      ]
    },
    {
      "cell_type": "code",
      "metadata": {
        "colab": {
          "base_uri": "https://localhost:8080/",
          "height": 204
        },
        "id": "Ecdp1OYy-CB5",
        "outputId": "b6ed7a64-75b0-4322-f753-6ca14bd8dea8"
      },
      "source": [
        "df4 = df.groupby('From(Club)', as_index= False, sort= True,)['Fee(€ mln)'].sum()\n",
        "df4 = df4.sort_values('Fee(€ mln)', ascending = False) \n",
        "df4.head()"
      ],
      "execution_count": 33,
      "outputs": [
        {
          "output_type": "execute_result",
          "data": {
            "text/html": [
              "<div>\n",
              "<style scoped>\n",
              "    .dataframe tbody tr th:only-of-type {\n",
              "        vertical-align: middle;\n",
              "    }\n",
              "\n",
              "    .dataframe tbody tr th {\n",
              "        vertical-align: top;\n",
              "    }\n",
              "\n",
              "    .dataframe thead th {\n",
              "        text-align: right;\n",
              "    }\n",
              "</style>\n",
              "<table border=\"1\" class=\"dataframe\">\n",
              "  <thead>\n",
              "    <tr style=\"text-align: right;\">\n",
              "      <th></th>\n",
              "      <th>From(Club)</th>\n",
              "      <th>Fee(€ mln)</th>\n",
              "    </tr>\n",
              "  </thead>\n",
              "  <tbody>\n",
              "    <tr>\n",
              "      <th>4</th>\n",
              "      <td>Barcelona</td>\n",
              "      <td>356.0</td>\n",
              "    </tr>\n",
              "    <tr>\n",
              "      <th>3</th>\n",
              "      <td>Atlético Madrid</td>\n",
              "      <td>330.0</td>\n",
              "    </tr>\n",
              "    <tr>\n",
              "      <th>19</th>\n",
              "      <td>Monaco</td>\n",
              "      <td>325.0</td>\n",
              "    </tr>\n",
              "    <tr>\n",
              "      <th>7</th>\n",
              "      <td>Borussia Dortmund</td>\n",
              "      <td>317.7</td>\n",
              "    </tr>\n",
              "    <tr>\n",
              "      <th>12</th>\n",
              "      <td>Juventus</td>\n",
              "      <td>306.0</td>\n",
              "    </tr>\n",
              "  </tbody>\n",
              "</table>\n",
              "</div>"
            ],
            "text/plain": [
              "           From(Club)  Fee(€ mln)\n",
              "4           Barcelona       356.0\n",
              "3     Atlético Madrid       330.0\n",
              "19             Monaco       325.0\n",
              "7   Borussia Dortmund       317.7\n",
              "12           Juventus       306.0"
            ]
          },
          "metadata": {
            "tags": []
          },
          "execution_count": 33
        }
      ]
    },
    {
      "cell_type": "code",
      "metadata": {
        "colab": {
          "base_uri": "https://localhost:8080/",
          "height": 530
        },
        "id": "apLEHNvGpxs5",
        "outputId": "ba1fbd7d-7cf7-4d68-ea54-4734b38223f9"
      },
      "source": [
        "# plot\n",
        "df4= df4[0:10]\n",
        "plt.figure(figsize= (15,8))\n",
        "sns.barplot(data = df4, x= 'From(Club)', y= 'Fee(€ mln)')\n",
        "plt.ylabel('Fee (€ mln)')\n",
        "plt.xlabel('Name of the club')\n",
        "plt.title('Top 10 Clubs with highest revenues')"
      ],
      "execution_count": 37,
      "outputs": [
        {
          "output_type": "execute_result",
          "data": {
            "text/plain": [
              "Text(0.5, 1.0, 'Top 10 Clubs with highest revenues')"
            ]
          },
          "metadata": {
            "tags": []
          },
          "execution_count": 37
        },
        {
          "output_type": "display_data",
          "data": {
            "image/png": "[encoded data removed]",
            "text/plain": [
              "<Figure size 1080x576 with 1 Axes>"
            ]
          },
          "metadata": {
            "tags": [],
            "needs_background": "light"
          }
        }
      ]
    },
    {
      "cell_type": "markdown",
      "metadata": {
        "id": "ifdYNe2WvCML"
      },
      "source": [
        "Club that spent the most"
      ]
    },
    {
      "cell_type": "code",
      "metadata": {
        "colab": {
          "base_uri": "https://localhost:8080/",
          "height": 204
        },
        "id": "-8veGonGunUr",
        "outputId": "05a5cbdc-8345-4f7d-da0e-1e543e6d2d5e"
      },
      "source": [
        "df5= df.groupby('To(Club)', as_index= False, sort= True)['Fee(€ mln)'].sum()\n",
        "df5= df5.sort_values('Fee(€ mln)', ascending= False)\n",
        "df5.head()"
      ],
      "execution_count": 35,
      "outputs": [
        {
          "output_type": "execute_result",
          "data": {
            "text/html": [
              "<div>\n",
              "<style scoped>\n",
              "    .dataframe tbody tr th:only-of-type {\n",
              "        vertical-align: middle;\n",
              "    }\n",
              "\n",
              "    .dataframe tbody tr th {\n",
              "        vertical-align: top;\n",
              "    }\n",
              "\n",
              "    .dataframe thead th {\n",
              "        text-align: right;\n",
              "    }\n",
              "</style>\n",
              "<table border=\"1\" class=\"dataframe\">\n",
              "  <thead>\n",
              "    <tr style=\"text-align: right;\">\n",
              "      <th></th>\n",
              "      <th>To(Club)</th>\n",
              "      <th>Fee(€ mln)</th>\n",
              "    </tr>\n",
              "  </thead>\n",
              "  <tbody>\n",
              "    <tr>\n",
              "      <th>2</th>\n",
              "      <td>Barcelona</td>\n",
              "      <td>656.8</td>\n",
              "    </tr>\n",
              "    <tr>\n",
              "      <th>13</th>\n",
              "      <td>Real Madrid</td>\n",
              "      <td>634.0</td>\n",
              "    </tr>\n",
              "    <tr>\n",
              "      <th>8</th>\n",
              "      <td>Manchester City</td>\n",
              "      <td>590.5</td>\n",
              "    </tr>\n",
              "    <tr>\n",
              "      <th>12</th>\n",
              "      <td>Paris Saint-Germain</td>\n",
              "      <td>590.5</td>\n",
              "    </tr>\n",
              "    <tr>\n",
              "      <th>9</th>\n",
              "      <td>Manchester United</td>\n",
              "      <td>437.6</td>\n",
              "    </tr>\n",
              "  </tbody>\n",
              "</table>\n",
              "</div>"
            ],
            "text/plain": [
              "               To(Club)  Fee(€ mln)\n",
              "2             Barcelona       656.8\n",
              "13          Real Madrid       634.0\n",
              "8       Manchester City       590.5\n",
              "12  Paris Saint-Germain       590.5\n",
              "9     Manchester United       437.6"
            ]
          },
          "metadata": {
            "tags": []
          },
          "execution_count": 35
        }
      ]
    },
    {
      "cell_type": "code",
      "metadata": {
        "colab": {
          "base_uri": "https://localhost:8080/",
          "height": 513
        },
        "id": "Q6Iraz4gvutz",
        "outputId": "1aab6948-e72a-40bb-fe34-0c9a1a1f654c"
      },
      "source": [
        "# plot\n",
        "df5= df5[0:10]\n",
        "plt.figure(figsize= (18,8))\n",
        "sns.barplot(data= df5, x= 'To(Club)', y='Fee(€ mln)')\n",
        "plt.xlabel('Name of the club')\n",
        "plt.ylabel('Fee(€ mln)')\n",
        "plt.title('Top 10 Club who spent the most on footballers')\n",
        "plt.show()"
      ],
      "execution_count": 36,
      "outputs": [
        {
          "output_type": "display_data",
          "data": {
            "image/png": "[encoded data removed]",
            "text/plain": [
              "<Figure size 1296x576 with 1 Axes>"
            ]
          },
          "metadata": {
            "tags": [],
            "needs_background": "light"
          }
        }
      ]
    },
    {
      "cell_type": "markdown",
      "metadata": {
        "id": "HZks6_L5bB7l"
      },
      "source": [
        "Top 5 origins of the most expensive players"
      ]
    },
    {
      "cell_type": "code",
      "metadata": {
        "colab": {
          "base_uri": "https://localhost:8080/",
          "height": 204
        },
        "id": "OyXtRrA7bTEd",
        "outputId": "899653cc-426e-446d-d70e-224e1dd9aef2"
      },
      "source": [
        "df5= df.groupby('Origin', as_index= False, sort= True)['Fee(€ mln)'].sum()\n",
        "df5= df5.sort_values('Fee(€ mln)', ascending= False)\n",
        "df5.head()"
      ],
      "execution_count": 39,
      "outputs": [
        {
          "output_type": "execute_result",
          "data": {
            "text/html": [
              "<div>\n",
              "<style scoped>\n",
              "    .dataframe tbody tr th:only-of-type {\n",
              "        vertical-align: middle;\n",
              "    }\n",
              "\n",
              "    .dataframe tbody tr th {\n",
              "        vertical-align: top;\n",
              "    }\n",
              "\n",
              "    .dataframe thead th {\n",
              "        text-align: right;\n",
              "    }\n",
              "</style>\n",
              "<table border=\"1\" class=\"dataframe\">\n",
              "  <thead>\n",
              "    <tr style=\"text-align: right;\">\n",
              "      <th></th>\n",
              "      <th>Origin</th>\n",
              "      <th>Fee(€ mln)</th>\n",
              "    </tr>\n",
              "  </thead>\n",
              "  <tbody>\n",
              "    <tr>\n",
              "      <th>7</th>\n",
              "      <td>France</td>\n",
              "      <td>861.2</td>\n",
              "    </tr>\n",
              "    <tr>\n",
              "      <th>4</th>\n",
              "      <td>Brazil</td>\n",
              "      <td>629.5</td>\n",
              "    </tr>\n",
              "    <tr>\n",
              "      <th>15</th>\n",
              "      <td>Portugal</td>\n",
              "      <td>515.0</td>\n",
              "    </tr>\n",
              "    <tr>\n",
              "      <th>6</th>\n",
              "      <td>England</td>\n",
              "      <td>351.5</td>\n",
              "    </tr>\n",
              "    <tr>\n",
              "      <th>2</th>\n",
              "      <td>Belgium</td>\n",
              "      <td>340.0</td>\n",
              "    </tr>\n",
              "  </tbody>\n",
              "</table>\n",
              "</div>"
            ],
            "text/plain": [
              "      Origin  Fee(€ mln)\n",
              "7     France       861.2\n",
              "4     Brazil       629.5\n",
              "15  Portugal       515.0\n",
              "6    England       351.5\n",
              "2    Belgium       340.0"
            ]
          },
          "metadata": {
            "tags": []
          },
          "execution_count": 39
        }
      ]
    },
    {
      "cell_type": "code",
      "metadata": {
        "colab": {
          "base_uri": "https://localhost:8080/",
          "height": 518
        },
        "id": "Ye04F3T9b4GN",
        "outputId": "dfe289ac-f2a1-4cdc-fb42-4a490e7ed26a"
      },
      "source": [
        "# plot\n",
        "df5= df5[0:5]\n",
        "plt.figure(figsize= (10,8))\n",
        "sns.barplot(data = df5, x= 'Origin', y= 'Fee(€ mln)')\n",
        "plt.xlabel('Origin', fontsize= 15)\n",
        "plt.ylabel('Fee(€ mln)', fontsize= 15)\n",
        "plt.title('Top 5 countries where most expensive players come from')\n",
        "plt.show()\n"
      ],
      "execution_count": 45,
      "outputs": [
        {
          "output_type": "display_data",
          "data": {
            "image/png": "[encoded data removed]",
            "text/plain": [
              "<Figure size 720x576 with 1 Axes>"
            ]
          },
          "metadata": {
            "tags": [],
            "needs_background": "light"
          }
        }
      ]
    },
    {
      "cell_type": "markdown",
      "metadata": {
        "id": "4BJQCSH0gG4H"
      },
      "source": [
        "Let's check the average price of a player depending on his position"
      ]
    },
    {
      "cell_type": "code",
      "metadata": {
        "colab": {
          "base_uri": "https://localhost:8080/",
          "height": 204
        },
        "id": "usYZqR0mgNTf",
        "outputId": "3d325e8c-2fd9-45c1-b1f4-991422ad42d0"
      },
      "source": [
        "df6= df.groupby('Position', as_index= False, sort= True)['Fee(€ mln)'].sum()\n",
        "df6= df6.sort_values('Fee(€ mln)', ascending= False)\n",
        "df6.head()"
      ],
      "execution_count": 46,
      "outputs": [
        {
          "output_type": "execute_result",
          "data": {
            "text/html": [
              "<div>\n",
              "<style scoped>\n",
              "    .dataframe tbody tr th:only-of-type {\n",
              "        vertical-align: middle;\n",
              "    }\n",
              "\n",
              "    .dataframe tbody tr th {\n",
              "        vertical-align: top;\n",
              "    }\n",
              "\n",
              "    .dataframe thead th {\n",
              "        text-align: right;\n",
              "    }\n",
              "</style>\n",
              "<table border=\"1\" class=\"dataframe\">\n",
              "  <thead>\n",
              "    <tr style=\"text-align: right;\">\n",
              "      <th></th>\n",
              "      <th>Position</th>\n",
              "      <th>Fee(€ mln)</th>\n",
              "    </tr>\n",
              "  </thead>\n",
              "  <tbody>\n",
              "    <tr>\n",
              "      <th>3</th>\n",
              "      <td>Midfielder</td>\n",
              "      <td>1551.6</td>\n",
              "    </tr>\n",
              "    <tr>\n",
              "      <th>1</th>\n",
              "      <td>Forward</td>\n",
              "      <td>1491.3</td>\n",
              "    </tr>\n",
              "    <tr>\n",
              "      <th>4</th>\n",
              "      <td>Striker</td>\n",
              "      <td>720.5</td>\n",
              "    </tr>\n",
              "    <tr>\n",
              "      <th>0</th>\n",
              "      <td>Defender</td>\n",
              "      <td>584.7</td>\n",
              "    </tr>\n",
              "    <tr>\n",
              "      <th>2</th>\n",
              "      <td>Goalkeeper</td>\n",
              "      <td>142.5</td>\n",
              "    </tr>\n",
              "  </tbody>\n",
              "</table>\n",
              "</div>"
            ],
            "text/plain": [
              "     Position  Fee(€ mln)\n",
              "3  Midfielder      1551.6\n",
              "1     Forward      1491.3\n",
              "4     Striker       720.5\n",
              "0    Defender       584.7\n",
              "2  Goalkeeper       142.5"
            ]
          },
          "metadata": {
            "tags": []
          },
          "execution_count": 46
        }
      ]
    },
    {
      "cell_type": "code",
      "metadata": {
        "colab": {
          "base_uri": "https://localhost:8080/",
          "height": 204
        },
        "id": "WAgZGLgQg5Ix",
        "outputId": "6b7fdbaa-9230-4f94-fb51-e8a607560293"
      },
      "source": [
        "df7= df['Position'].value_counts()\n",
        "df7= pd.DataFrame(df7)\n",
        "df7.columns= ['Count']\n",
        "df7"
      ],
      "execution_count": 49,
      "outputs": [
        {
          "output_type": "execute_result",
          "data": {
            "text/html": [
              "<div>\n",
              "<style scoped>\n",
              "    .dataframe tbody tr th:only-of-type {\n",
              "        vertical-align: middle;\n",
              "    }\n",
              "\n",
              "    .dataframe tbody tr th {\n",
              "        vertical-align: top;\n",
              "    }\n",
              "\n",
              "    .dataframe thead th {\n",
              "        text-align: right;\n",
              "    }\n",
              "</style>\n",
              "<table border=\"1\" class=\"dataframe\">\n",
              "  <thead>\n",
              "    <tr style=\"text-align: right;\">\n",
              "      <th></th>\n",
              "      <th>Count</th>\n",
              "    </tr>\n",
              "  </thead>\n",
              "  <tbody>\n",
              "    <tr>\n",
              "      <th>Midfielder</th>\n",
              "      <td>20</td>\n",
              "    </tr>\n",
              "    <tr>\n",
              "      <th>Forward</th>\n",
              "      <td>14</td>\n",
              "    </tr>\n",
              "    <tr>\n",
              "      <th>Striker</th>\n",
              "      <td>10</td>\n",
              "    </tr>\n",
              "    <tr>\n",
              "      <th>Defender</th>\n",
              "      <td>8</td>\n",
              "    </tr>\n",
              "    <tr>\n",
              "      <th>Goalkeeper</th>\n",
              "      <td>2</td>\n",
              "    </tr>\n",
              "  </tbody>\n",
              "</table>\n",
              "</div>"
            ],
            "text/plain": [
              "            Count\n",
              "Midfielder     20\n",
              "Forward        14\n",
              "Striker        10\n",
              "Defender        8\n",
              "Goalkeeper      2"
            ]
          },
          "metadata": {
            "tags": []
          },
          "execution_count": 49
        }
      ]
    },
    {
      "cell_type": "code",
      "metadata": {
        "colab": {
          "base_uri": "https://localhost:8080/",
          "height": 204
        },
        "id": "MwREZIkWhXZw",
        "outputId": "c4711eac-577e-4867-cc34-1914b7722997"
      },
      "source": [
        "df6['Count']= df7['Count'].values\n",
        "df6['Average Price']= df6['Fee(€ mln)']/df6['Count']\n",
        "df6"
      ],
      "execution_count": 52,
      "outputs": [
        {
          "output_type": "execute_result",
          "data": {
            "text/html": [
              "<div>\n",
              "<style scoped>\n",
              "    .dataframe tbody tr th:only-of-type {\n",
              "        vertical-align: middle;\n",
              "    }\n",
              "\n",
              "    .dataframe tbody tr th {\n",
              "        vertical-align: top;\n",
              "    }\n",
              "\n",
              "    .dataframe thead th {\n",
              "        text-align: right;\n",
              "    }\n",
              "</style>\n",
              "<table border=\"1\" class=\"dataframe\">\n",
              "  <thead>\n",
              "    <tr style=\"text-align: right;\">\n",
              "      <th></th>\n",
              "      <th>Position</th>\n",
              "      <th>Fee(€ mln)</th>\n",
              "      <th>Count</th>\n",
              "      <th>Average Price</th>\n",
              "    </tr>\n",
              "  </thead>\n",
              "  <tbody>\n",
              "    <tr>\n",
              "      <th>3</th>\n",
              "      <td>Midfielder</td>\n",
              "      <td>1551.6</td>\n",
              "      <td>20</td>\n",
              "      <td>77.580000</td>\n",
              "    </tr>\n",
              "    <tr>\n",
              "      <th>1</th>\n",
              "      <td>Forward</td>\n",
              "      <td>1491.3</td>\n",
              "      <td>14</td>\n",
              "      <td>106.521429</td>\n",
              "    </tr>\n",
              "    <tr>\n",
              "      <th>4</th>\n",
              "      <td>Striker</td>\n",
              "      <td>720.5</td>\n",
              "      <td>10</td>\n",
              "      <td>72.050000</td>\n",
              "    </tr>\n",
              "    <tr>\n",
              "      <th>0</th>\n",
              "      <td>Defender</td>\n",
              "      <td>584.7</td>\n",
              "      <td>8</td>\n",
              "      <td>73.087500</td>\n",
              "    </tr>\n",
              "    <tr>\n",
              "      <th>2</th>\n",
              "      <td>Goalkeeper</td>\n",
              "      <td>142.5</td>\n",
              "      <td>2</td>\n",
              "      <td>71.250000</td>\n",
              "    </tr>\n",
              "  </tbody>\n",
              "</table>\n",
              "</div>"
            ],
            "text/plain": [
              "     Position  Fee(€ mln)  Count  Average Price\n",
              "3  Midfielder      1551.6     20      77.580000\n",
              "1     Forward      1491.3     14     106.521429\n",
              "4     Striker       720.5     10      72.050000\n",
              "0    Defender       584.7      8      73.087500\n",
              "2  Goalkeeper       142.5      2      71.250000"
            ]
          },
          "metadata": {
            "tags": []
          },
          "execution_count": 52
        }
      ]
    }
  ]
}